{
 "cells": [
  {
   "cell_type": "code",
   "execution_count": 1,
   "metadata": {},
   "outputs": [],
   "source": [
    "from pyspark.sql import SparkSession"
   ]
  },
  {
   "cell_type": "code",
   "execution_count": 7,
   "metadata": {},
   "outputs": [],
   "source": [
    "spark = SparkSession.builder.config('spark.jars.packages','com.datastax.spark:spark-cassandra-connector_2.12:3.1.0').getOrCreate()"
   ]
  },
  {
   "cell_type": "code",
   "execution_count": 8,
   "metadata": {},
   "outputs": [],
   "source": [
    "data = spark.read.format(\"org.apache.spark.sql.cassandra\").options(table = 'tracking_longth',keyspace = 'de_prj').load()"
   ]
  },
  {
   "cell_type": "code",
   "execution_count": 4,
   "metadata": {},
   "outputs": [
    {
     "name": "stdout",
     "output_type": "stream",
     "text": [
      "+--------------------+----+----------+-----------+---+------------+-----+--------------------+---------------+--------------------+---+--------+----+------+----+------------+--------------------+---------+--------------------+----+--------------------+-------------------+------------+-----------+----------+----------+--------+---+---------+\n",
      "|         create_time| bid|        bn|campaign_id| cd|custom_track|   de|                  dl|             dt|                  ed| ev|group_id|  id|job_id|  md|publisher_id|                  rl|       sr|                  ts|  tz|                  ua|                uid|utm_campaign|utm_content|utm_medium|utm_source|utm_term|  v|       vp|\n",
      "+--------------------+----+----------+-----------+---+------------+-----+--------------------+---------------+--------------------+---+--------+----+------+----+------------+--------------------+---------+--------------------+----+--------------------+-------------------+------------+-----------+----------+----------+--------+---+---------+\n",
      "|d3bc5130-0329-11e...|NULL| chrome 99|       NULL| 24|        NULL|utf-8|http://150.136.2....|candidateportal|{\"customevent\":\"c...|  2|    NULL|NULL|  NULL|true|        NULL|                NULL| 1536x864|2022-07-12 08:31:...|-420|mozilla/5.0 (wind...|1-m1rjmp9d-l4zajc12|        NULL|       NULL|      NULL|      NULL|    NULL|  1| 1536x754|\n",
      "|5f0632f0-fe85-11e...|NULL|Chrome 103|       NULL| 24|       alive|UTF-8|http://150.230.18...|CandidatePortal|{\"customEvent\":\"a...|  2|    NULL|NULL|  NULL|true|        NULL|                NULL|1920x1080|2022-07-08 06:15:...|-420|Mozilla/5.0 (Wind...|1-bekm4s4w-l5aghjrk|        NULL|       NULL|      NULL|      1310|    NULL|  1| 1103x929|\n",
      "|eb821b90-0803-11e...|NULL|Chrome 103|       NULL| 24|        NULL|UTF-8|http://150.136.2....|CandidatePortal|                NULL|  1|    NULL|NULL|  NULL|true|        NULL|                NULL| 1366x768|2022-07-20 08:14:...|-420|Mozilla/5.0 (Wind...|1-m8tpkuds-l4oxward|        NULL|       NULL|      NULL|      NULL|    NULL|  1| 1366x625|\n",
      "|ea5fbda0-0ccf-11e...|NULL|Chrome 103|       NULL| 24|        NULL|UTF-8|http://129.213.68...|CandidatePortal|                NULL|  1|    NULL|NULL|  NULL|true|        NULL|                NULL|1920x1080|2022-07-26 10:44:...|-600|Mozilla/5.0 (Wind...|1-ujd6r2st-l4p5wks4|        NULL|       NULL|      NULL|      NULL|    NULL|  1| 1567x808|\n",
      "|3db11f40-0ae5-11e...|NULL|Chrome 102|       NULL| 24|        NULL|UTF-8|http://fe.test.go...|CandidatePortal|                NULL|  1|    NULL|NULL|  NULL|true|        NULL|                NULL| 1280x649|2022-07-24 00:12:...|   0|Mozilla/5.0 (Wind...|1-l1g9eowe-l5ykfgs3|        NULL|       NULL|      NULL|      NULL|    NULL|  1| 1280x649|\n",
      "|2d1e2980-fe46-11e...|NULL| Chrome 99|       NULL| 24|        NULL|UTF-8|http://150.136.2....|CandidatePortal|                NULL|  1|    NULL|NULL|  NULL|true|        NULL|                NULL|1920x1080|2022-07-04 01:41:...|-420|Mozilla/5.0 (Wind...|1-m1rjmp9d-l4zajc12|        NULL|       NULL|      NULL|      NULL|    NULL|  1|1920x1020|\n",
      "|fdb808a0-0caf-11e...|NULL|Chrome 103|       NULL| 24|       alive|UTF-8|http://fe.dev.got...|CandidatePortal|{\"customEvent\":\"a...|  2|    NULL|NULL|  NULL|true|        NULL|                NULL| 1366x768|2022-07-26 06:55:...|-420|Mozilla/5.0 (Wind...|1-kntupfok-l61tduvk|        NULL|       NULL|      NULL|      NULL|    NULL|  1| 1366x625|\n",
      "|5c3afae0-0cb0-11e...|   0|Chrome 103|        222| 24|       click|UTF-8|http://fe.dev.got...|CandidatePortal|{\"customEvent\":\"c...|  2|    NULL|NULL|  1529|true|           1|                NULL| 1366x768|2022-07-26 06:58:...|-420|Mozilla/5.0 (Wind...|1-kntupfok-l61tduvk|        NULL|       NULL|      NULL|      NULL|    NULL|  1| 1366x625|\n",
      "|9d01d950-0cc8-11e...|NULL|Chrome 103|       NULL| 24|        NULL|UTF-8|http://fe.dev.got...|CandidatePortal|                NULL|  1|    NULL|NULL|  NULL|true|        NULL|                NULL|1920x1080|2022-07-26 09:52:...|-420|Mozilla/5.0 (Wind...|1-mbt2lpvh-l62016pg|        NULL|       NULL|      NULL|      NULL|    NULL|  1| 1920x979|\n",
      "|4cc0c010-0d62-11e...|   0|Chrome 103|        222| 24|       click|UTF-8|http://fe.dev.got...|CandidatePortal|{\"customEvent\":\"c...|  2|    NULL|NULL|  1527|true|           1|                NULL| 1366x768|2022-07-27 04:12:...|-420|Mozilla/5.0 (Wind...|1-tqctomj4-l633a1ky|        NULL|       NULL|      NULL|      NULL|    NULL|  1| 1366x625|\n",
      "|8384ba00-00f3-11e...|NULL|Chrome 102|       NULL| 24|        NULL|UTF-8|http://localhost:...|CandidatePortal|                NULL|  1|    NULL|NULL|  NULL|true|        NULL|http://localhost:...|1920x1080|2022-07-11 08:28:...|-420|Mozilla/5.0 (Maci...|1-2e0m174r-l4nx6s72|        NULL|       NULL|      NULL|      html|    NULL|  1|  918x976|\n",
      "|539c8f70-0189-11e...|NULL|Chrome 103|       NULL| 24|       click|UTF-8|http://150.136.2....|CandidatePortal|{\"customEvent\":\"c...|  2|    NULL|NULL|  NULL|true|        NULL|                NULL|1920x1080|2022-07-12 02:21:...|-420|Mozilla/5.0 (Wind...|1-0d5ciljy-l4pdlaxd|        NULL|       NULL|      NULL|      NULL|    NULL|  1| 1455x929|\n",
      "|c7cb8fe0-035a-11e...|NULL|Chrome 103|       NULL| 24|        NULL|UTF-8|http://localhost:...|CandidatePortal|                NULL|  1|    NULL|NULL|  NULL|true|        NULL|                NULL|1920x1080|2022-07-14 09:53:...|-420|Mozilla/5.0 (Maci...|1-9tivgsfi-l4rae1qy|        NULL|       NULL|      NULL|      NULL|    NULL|  1| 1858x944|\n",
      "|129f88f0-098c-11e...|NULL|Chrome 103|       NULL| 30|        NULL|UTF-8|http://fe.dev.got...|CandidatePortal|                NULL|  1|    NULL|NULL|  NULL|true|        NULL|                NULL| 1440x900|2022-07-22 07:01:...|-420|Mozilla/5.0 (Maci...|1-37wlw8bf-l5ugf5ix|        NULL|       NULL|      NULL|      NULL|    NULL|  1| 1440x797|\n",
      "|e5bb44b0-0430-11e...|NULL|Chrome 102|       NULL| 24|        NULL|UTF-8|http://localhost:...|CandidatePortal|                NULL|  1|    NULL|NULL|  NULL|true|        NULL|http://localhost:...|1920x1080|2022-07-15 11:25:...|-420|Mozilla/5.0 (Maci...|1-ok78d38x-l5j7ka8p|        NULL|       NULL|      NULL|      NULL|    NULL|  1| 1148x976|\n",
      "|a84c42a0-018d-11e...|NULL|Chrome 103|       NULL| 24|       click|UTF-8|http://localhost:...|CandidatePortal|{\"customEvent\":\"c...|  2|    NULL|NULL|  NULL|true|        NULL|                NULL|1920x1080|2022-07-12 02:52:...|-420|Mozilla/5.0 (Wind...|1-rrc3k5vd-l4o0b4yy|        NULL|       NULL|      NULL|      NULL|    NULL|  1| 1367x929|\n",
      "|4588ac30-08ae-11e...|NULL|Chrome 103|       NULL| 24|        NULL|UTF-8|http://localhost:...|CandidatePortal|                NULL|  1|    NULL|NULL|  NULL|true|        NULL|http://localhost:...|1920x1080|2022-07-21 04:33:...|-420|Mozilla/5.0 (Maci...|1-9tivgsfi-l4rae1qy|        NULL|       NULL|      NULL|      NULL|    NULL|  1| 1920x944|\n",
      "|12ce7f00-0277-11e...|NULL|Chrome 103|       NULL| 30|       click|UTF-8|http://150.136.2....|CandidatePortal|{\"customEvent\":\"c...|  2|    NULL|NULL|  NULL|true|        NULL|                NULL| 1440x900|2022-07-13 06:43:...|-420|Mozilla/5.0 (Maci...|1-tqze99b0-l5j4h561|        NULL|       NULL|      NULL|      NULL|    NULL|  1| 1440x789|\n",
      "|4879f2e0-0c97-11e...|NULL|Chrome 102|       NULL| 24|       click|UTF-8|http://localhost:...|CandidatePortal|{\"customEvent\":\"c...|  2|    NULL|NULL|  NULL|true|        NULL|                NULL|1920x1080|2022-07-26 03:59:...|-420|Mozilla/5.0 (Maci...|1-ok78d38x-l5j7ka8p|        NULL|       NULL|      NULL|      NULL|    NULL|  1|  845x976|\n",
      "|2b95cfe0-0077-11e...|NULL|Chrome 103|       NULL| 24|       click|UTF-8|http://localhost:...|CandidatePortal|{\"customEvent\":\"c...|  2|    NULL|NULL|  NULL|true|        NULL|                NULL| 1536x864|2022-07-10 17:38:...|-420|Mozilla/5.0 (Wind...|1-rrc3k5vd-l4o0b4yy|        NULL|       NULL|      NULL|      NULL|    NULL|  1| 1018x714|\n",
      "+--------------------+----+----------+-----------+---+------------+-----+--------------------+---------------+--------------------+---+--------+----+------+----+------------+--------------------+---------+--------------------+----+--------------------+-------------------+------------+-----------+----------+----------+--------+---+---------+\n",
      "only showing top 20 rows\n",
      "\n"
     ]
    }
   ],
   "source": [
    "data.show()"
   ]
  },
  {
   "cell_type": "code",
   "execution_count": 7,
   "metadata": {},
   "outputs": [],
   "source": [
    "#Start Spark Session\n",
    "spark = SparkSession.builder.appName(\"chapter1\")\\\n",
    "        .config('spark.jars.packages', 'mysql:mysql-connector-java:8.0.32')\\\n",
    "        .getOrCreate()\n",
    "sqlContext = SparkSession(spark)\n",
    "#Dont Show warning only error\n",
    "spark.sparkContext.setLogLevel(\"ERROR\")"
   ]
  },
  {
   "cell_type": "code",
   "execution_count": 9,
   "metadata": {},
   "outputs": [],
   "source": [
    "url = 'jdbc:mysql://' + 'localhost' + ':' + '3306' + '/' + 'etl_data'\n",
    "driver = \"com.mysql.cj.jdbc.Driver\"\n",
    "user = 'root'\n",
    "password = '111111'\n",
    "sql = '(SELECT * FROM job) A'"
   ]
  },
  {
   "cell_type": "code",
   "execution_count": 10,
   "metadata": {},
   "outputs": [],
   "source": [
    "jobs = spark.read.format('jdbc').options(url = url , driver = driver , dbtable = sql , user=user , password = password).load()"
   ]
  }
 ],
 "metadata": {
  "kernelspec": {
   "display_name": "Python 3",
   "language": "python",
   "name": "python3"
  },
  "language_info": {
   "codemirror_mode": {
    "name": "ipython",
    "version": 3
   },
   "file_extension": ".py",
   "mimetype": "text/x-python",
   "name": "python",
   "nbconvert_exporter": "python",
   "pygments_lexer": "ipython3",
   "version": "3.10.11"
  }
 },
 "nbformat": 4,
 "nbformat_minor": 2
}
